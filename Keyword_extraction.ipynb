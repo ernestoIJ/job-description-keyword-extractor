{
 "cells": [
  {
   "cell_type": "code",
   "execution_count": 1,
   "id": "cab8b44f-ebbb-462a-ac66-eb617954bc93",
   "metadata": {},
   "outputs": [],
   "source": [
    "import pandas as pd"
   ]
  },
  {
   "cell_type": "code",
   "execution_count": 2,
   "id": "ef0d2441-3dc7-4ceb-b9c7-8bd8fb1b5cf2",
   "metadata": {},
   "outputs": [],
   "source": [
    "# Load the dataset\n",
    "df = pd.read_csv('./archive/data_job_posts.csv')"
   ]
  },
  {
   "cell_type": "code",
   "execution_count": 3,
   "id": "b64a7024-d3c6-4255-9949-f00c3ce99dc1",
   "metadata": {},
   "outputs": [
    {
     "data": {
      "text/html": [
       "<div>\n",
       "<style scoped>\n",
       "    .dataframe tbody tr th:only-of-type {\n",
       "        vertical-align: middle;\n",
       "    }\n",
       "\n",
       "    .dataframe tbody tr th {\n",
       "        vertical-align: top;\n",
       "    }\n",
       "\n",
       "    .dataframe thead th {\n",
       "        text-align: right;\n",
       "    }\n",
       "</style>\n",
       "<table border=\"1\" class=\"dataframe\">\n",
       "  <thead>\n",
       "    <tr style=\"text-align: right;\">\n",
       "      <th></th>\n",
       "      <th>jobpost</th>\n",
       "      <th>date</th>\n",
       "      <th>Title</th>\n",
       "      <th>Company</th>\n",
       "      <th>AnnouncementCode</th>\n",
       "      <th>Term</th>\n",
       "      <th>Eligibility</th>\n",
       "      <th>Audience</th>\n",
       "      <th>StartDate</th>\n",
       "      <th>Duration</th>\n",
       "      <th>...</th>\n",
       "      <th>Salary</th>\n",
       "      <th>ApplicationP</th>\n",
       "      <th>OpeningDate</th>\n",
       "      <th>Deadline</th>\n",
       "      <th>Notes</th>\n",
       "      <th>AboutC</th>\n",
       "      <th>Attach</th>\n",
       "      <th>Year</th>\n",
       "      <th>Month</th>\n",
       "      <th>IT</th>\n",
       "    </tr>\n",
       "  </thead>\n",
       "  <tbody>\n",
       "    <tr>\n",
       "      <th>0</th>\n",
       "      <td>AMERIA Investment Consulting Company\\r\\nJOB TI...</td>\n",
       "      <td>Jan 5, 2004</td>\n",
       "      <td>Chief Financial Officer</td>\n",
       "      <td>AMERIA Investment Consulting Company</td>\n",
       "      <td>NaN</td>\n",
       "      <td>NaN</td>\n",
       "      <td>NaN</td>\n",
       "      <td>NaN</td>\n",
       "      <td>NaN</td>\n",
       "      <td>NaN</td>\n",
       "      <td>...</td>\n",
       "      <td>NaN</td>\n",
       "      <td>To apply for this position, please submit a\\r\\...</td>\n",
       "      <td>NaN</td>\n",
       "      <td>26 January 2004</td>\n",
       "      <td>NaN</td>\n",
       "      <td>NaN</td>\n",
       "      <td>NaN</td>\n",
       "      <td>2004</td>\n",
       "      <td>1</td>\n",
       "      <td>False</td>\n",
       "    </tr>\n",
       "    <tr>\n",
       "      <th>1</th>\n",
       "      <td>International Research &amp; Exchanges Board (IREX...</td>\n",
       "      <td>Jan 7, 2004</td>\n",
       "      <td>Full-time Community Connections Intern (paid i...</td>\n",
       "      <td>International Research &amp; Exchanges Board (IREX)</td>\n",
       "      <td>NaN</td>\n",
       "      <td>NaN</td>\n",
       "      <td>NaN</td>\n",
       "      <td>NaN</td>\n",
       "      <td>NaN</td>\n",
       "      <td>3 months</td>\n",
       "      <td>...</td>\n",
       "      <td>NaN</td>\n",
       "      <td>Please submit a cover letter and resume to:\\r\\...</td>\n",
       "      <td>NaN</td>\n",
       "      <td>12 January 2004</td>\n",
       "      <td>NaN</td>\n",
       "      <td>The International Research &amp; Exchanges Board (...</td>\n",
       "      <td>NaN</td>\n",
       "      <td>2004</td>\n",
       "      <td>1</td>\n",
       "      <td>False</td>\n",
       "    </tr>\n",
       "    <tr>\n",
       "      <th>2</th>\n",
       "      <td>Caucasus Environmental NGO Network (CENN)\\r\\nJ...</td>\n",
       "      <td>Jan 7, 2004</td>\n",
       "      <td>Country Coordinator</td>\n",
       "      <td>Caucasus Environmental NGO Network (CENN)</td>\n",
       "      <td>NaN</td>\n",
       "      <td>NaN</td>\n",
       "      <td>NaN</td>\n",
       "      <td>NaN</td>\n",
       "      <td>NaN</td>\n",
       "      <td>Renewable annual contract\\r\\nPOSITION</td>\n",
       "      <td>...</td>\n",
       "      <td>NaN</td>\n",
       "      <td>Please send resume or CV toursula.kazarian@......</td>\n",
       "      <td>NaN</td>\n",
       "      <td>20 January 2004\\r\\nSTART DATE:  February 2004</td>\n",
       "      <td>NaN</td>\n",
       "      <td>The Caucasus Environmental NGO Network is a\\r\\...</td>\n",
       "      <td>NaN</td>\n",
       "      <td>2004</td>\n",
       "      <td>1</td>\n",
       "      <td>False</td>\n",
       "    </tr>\n",
       "    <tr>\n",
       "      <th>3</th>\n",
       "      <td>Manoff Group\\r\\nJOB TITLE:  BCC Specialist\\r\\n...</td>\n",
       "      <td>Jan 7, 2004</td>\n",
       "      <td>BCC Specialist</td>\n",
       "      <td>Manoff Group</td>\n",
       "      <td>NaN</td>\n",
       "      <td>NaN</td>\n",
       "      <td>NaN</td>\n",
       "      <td>NaN</td>\n",
       "      <td>NaN</td>\n",
       "      <td>NaN</td>\n",
       "      <td>...</td>\n",
       "      <td>NaN</td>\n",
       "      <td>Please send cover letter and resume to Amy\\r\\n...</td>\n",
       "      <td>NaN</td>\n",
       "      <td>23 January 2004\\r\\nSTART DATE:  Immediate</td>\n",
       "      <td>NaN</td>\n",
       "      <td>NaN</td>\n",
       "      <td>NaN</td>\n",
       "      <td>2004</td>\n",
       "      <td>1</td>\n",
       "      <td>False</td>\n",
       "    </tr>\n",
       "    <tr>\n",
       "      <th>4</th>\n",
       "      <td>Yerevan Brandy Company\\r\\nJOB TITLE:  Software...</td>\n",
       "      <td>Jan 10, 2004</td>\n",
       "      <td>Software Developer</td>\n",
       "      <td>Yerevan Brandy Company</td>\n",
       "      <td>NaN</td>\n",
       "      <td>NaN</td>\n",
       "      <td>NaN</td>\n",
       "      <td>NaN</td>\n",
       "      <td>NaN</td>\n",
       "      <td>NaN</td>\n",
       "      <td>...</td>\n",
       "      <td>NaN</td>\n",
       "      <td>Successful candidates should submit\\r\\n- CV; \\...</td>\n",
       "      <td>NaN</td>\n",
       "      <td>20 January 2004, 18:00</td>\n",
       "      <td>NaN</td>\n",
       "      <td>NaN</td>\n",
       "      <td>NaN</td>\n",
       "      <td>2004</td>\n",
       "      <td>1</td>\n",
       "      <td>True</td>\n",
       "    </tr>\n",
       "  </tbody>\n",
       "</table>\n",
       "<p>5 rows × 24 columns</p>\n",
       "</div>"
      ],
      "text/plain": [
       "                                             jobpost          date  \\\n",
       "0  AMERIA Investment Consulting Company\\r\\nJOB TI...   Jan 5, 2004   \n",
       "1  International Research & Exchanges Board (IREX...   Jan 7, 2004   \n",
       "2  Caucasus Environmental NGO Network (CENN)\\r\\nJ...   Jan 7, 2004   \n",
       "3  Manoff Group\\r\\nJOB TITLE:  BCC Specialist\\r\\n...   Jan 7, 2004   \n",
       "4  Yerevan Brandy Company\\r\\nJOB TITLE:  Software...  Jan 10, 2004   \n",
       "\n",
       "                                               Title  \\\n",
       "0                            Chief Financial Officer   \n",
       "1  Full-time Community Connections Intern (paid i...   \n",
       "2                                Country Coordinator   \n",
       "3                                     BCC Specialist   \n",
       "4                                 Software Developer   \n",
       "\n",
       "                                           Company AnnouncementCode Term  \\\n",
       "0             AMERIA Investment Consulting Company              NaN  NaN   \n",
       "1  International Research & Exchanges Board (IREX)              NaN  NaN   \n",
       "2        Caucasus Environmental NGO Network (CENN)              NaN  NaN   \n",
       "3                                     Manoff Group              NaN  NaN   \n",
       "4                           Yerevan Brandy Company              NaN  NaN   \n",
       "\n",
       "  Eligibility Audience StartDate                               Duration  ...  \\\n",
       "0         NaN      NaN       NaN                                    NaN  ...   \n",
       "1         NaN      NaN       NaN                               3 months  ...   \n",
       "2         NaN      NaN       NaN  Renewable annual contract\\r\\nPOSITION  ...   \n",
       "3         NaN      NaN       NaN                                    NaN  ...   \n",
       "4         NaN      NaN       NaN                                    NaN  ...   \n",
       "\n",
       "  Salary                                       ApplicationP OpeningDate  \\\n",
       "0    NaN  To apply for this position, please submit a\\r\\...         NaN   \n",
       "1    NaN  Please submit a cover letter and resume to:\\r\\...         NaN   \n",
       "2    NaN  Please send resume or CV toursula.kazarian@......         NaN   \n",
       "3    NaN  Please send cover letter and resume to Amy\\r\\n...         NaN   \n",
       "4    NaN  Successful candidates should submit\\r\\n- CV; \\...         NaN   \n",
       "\n",
       "                                        Deadline Notes  \\\n",
       "0                                26 January 2004   NaN   \n",
       "1                                12 January 2004   NaN   \n",
       "2  20 January 2004\\r\\nSTART DATE:  February 2004   NaN   \n",
       "3      23 January 2004\\r\\nSTART DATE:  Immediate   NaN   \n",
       "4                         20 January 2004, 18:00   NaN   \n",
       "\n",
       "                                              AboutC Attach  Year Month     IT  \n",
       "0                                                NaN    NaN  2004     1  False  \n",
       "1  The International Research & Exchanges Board (...    NaN  2004     1  False  \n",
       "2  The Caucasus Environmental NGO Network is a\\r\\...    NaN  2004     1  False  \n",
       "3                                                NaN    NaN  2004     1  False  \n",
       "4                                                NaN    NaN  2004     1   True  \n",
       "\n",
       "[5 rows x 24 columns]"
      ]
     },
     "execution_count": 3,
     "metadata": {},
     "output_type": "execute_result"
    }
   ],
   "source": [
    "df.head()"
   ]
  },
  {
   "cell_type": "code",
   "execution_count": 4,
   "id": "f53247bb-c1e2-4bdc-a4cf-8bc8ed033c1e",
   "metadata": {},
   "outputs": [
    {
     "name": "stdout",
     "output_type": "stream",
     "text": [
      "<class 'pandas.core.frame.DataFrame'>\n",
      "RangeIndex: 19001 entries, 0 to 19000\n",
      "Data columns (total 24 columns):\n",
      " #   Column            Non-Null Count  Dtype \n",
      "---  ------            --------------  ----- \n",
      " 0   jobpost           19001 non-null  object\n",
      " 1   date              19001 non-null  object\n",
      " 2   Title             18973 non-null  object\n",
      " 3   Company           18994 non-null  object\n",
      " 4   AnnouncementCode  1208 non-null   object\n",
      " 5   Term              7676 non-null   object\n",
      " 6   Eligibility       4930 non-null   object\n",
      " 7   Audience          640 non-null    object\n",
      " 8   StartDate         9675 non-null   object\n",
      " 9   Duration          10798 non-null  object\n",
      " 10  Location          18969 non-null  object\n",
      " 11  JobDescription    15109 non-null  object\n",
      " 12  JobRequirment     16479 non-null  object\n",
      " 13  RequiredQual      18517 non-null  object\n",
      " 14  Salary            9622 non-null   object\n",
      " 15  ApplicationP      18941 non-null  object\n",
      " 16  OpeningDate       18295 non-null  object\n",
      " 17  Deadline          18936 non-null  object\n",
      " 18  Notes             2211 non-null   object\n",
      " 19  AboutC            12470 non-null  object\n",
      " 20  Attach            1559 non-null   object\n",
      " 21  Year              19001 non-null  int64 \n",
      " 22  Month             19001 non-null  int64 \n",
      " 23  IT                19001 non-null  bool  \n",
      "dtypes: bool(1), int64(2), object(21)\n",
      "memory usage: 3.4+ MB\n"
     ]
    }
   ],
   "source": [
    "df.info()"
   ]
  },
  {
   "cell_type": "code",
   "execution_count": 5,
   "id": "0479d221-efd0-4bdb-951c-7cb1f00130d6",
   "metadata": {},
   "outputs": [],
   "source": [
    "# Filling NaN values\n",
    "columns_to_fill = ['JobDescription', 'JobRequirment', 'RequiredQual', 'Title', 'jobpost']\n",
    "for column in columns_to_fill:\n",
    "    df[column] = df[column].fillna('')"
   ]
  },
  {
   "cell_type": "code",
   "execution_count": 6,
   "id": "1217aba3-a1d4-4e4b-be14-b7e79fb989a1",
   "metadata": {},
   "outputs": [
    {
     "name": "stdout",
     "output_type": "stream",
     "text": [
      "<class 'pandas.core.frame.DataFrame'>\n",
      "RangeIndex: 19001 entries, 0 to 19000\n",
      "Data columns (total 24 columns):\n",
      " #   Column            Non-Null Count  Dtype \n",
      "---  ------            --------------  ----- \n",
      " 0   jobpost           19001 non-null  object\n",
      " 1   date              19001 non-null  object\n",
      " 2   Title             19001 non-null  object\n",
      " 3   Company           18994 non-null  object\n",
      " 4   AnnouncementCode  1208 non-null   object\n",
      " 5   Term              7676 non-null   object\n",
      " 6   Eligibility       4930 non-null   object\n",
      " 7   Audience          640 non-null    object\n",
      " 8   StartDate         9675 non-null   object\n",
      " 9   Duration          10798 non-null  object\n",
      " 10  Location          18969 non-null  object\n",
      " 11  JobDescription    19001 non-null  object\n",
      " 12  JobRequirment     19001 non-null  object\n",
      " 13  RequiredQual      19001 non-null  object\n",
      " 14  Salary            9622 non-null   object\n",
      " 15  ApplicationP      18941 non-null  object\n",
      " 16  OpeningDate       18295 non-null  object\n",
      " 17  Deadline          18936 non-null  object\n",
      " 18  Notes             2211 non-null   object\n",
      " 19  AboutC            12470 non-null  object\n",
      " 20  Attach            1559 non-null   object\n",
      " 21  Year              19001 non-null  int64 \n",
      " 22  Month             19001 non-null  int64 \n",
      " 23  IT                19001 non-null  bool  \n",
      "dtypes: bool(1), int64(2), object(21)\n",
      "memory usage: 3.4+ MB\n"
     ]
    }
   ],
   "source": [
    "df.info()"
   ]
  },
  {
   "cell_type": "code",
   "execution_count": 7,
   "id": "4b979ec7-b506-4aed-ba2b-e8e9f41f374f",
   "metadata": {},
   "outputs": [],
   "source": [
    "# Combining important columns\n",
    "df['Job'] = (df['Title'] + ' ' + df['jobpost'] + ' ' + df['JobDescription'] + ' ' + df['JobRequirment'] + ' ' + df['RequiredQual'])"
   ]
  },
  {
   "cell_type": "code",
   "execution_count": 8,
   "id": "7b4f889f-1ed8-475b-bf4e-0817fea62536",
   "metadata": {},
   "outputs": [
    {
     "data": {
      "text/plain": [
       "\"Chief Financial Officer AMERIA Investment Consulting Company\\r\\nJOB TITLE:  Chief Financial Officer\\r\\nPOSITION LOCATION: Yerevan, Armenia\\r\\nJOB DESCRIPTION:   AMERIA Investment Consulting Company is seeking a\\r\\nChief Financial Officer. This position manages the company's fiscal and\\r\\nadministrative functions, provides highly responsible and technically\\r\\ncomplex staff assistance to the Executive Director. The work performed\\r\\nrequires a high level of technical proficiency in financial management\\r\\nand investment management, as well as management, supervisory, and\\r\\nadministrative skills.\\r\\nJOB RESPONSIBILITIES:  \\r\\n- Supervises financial management and administrative staff, including\\r\\nassigning responsibilities, reviewing employees' work processes and\\r\\nproducts, counseling employees, giving performance evaluations, and\\r\\nrecommending disciplinary action;\\r\\n- Serves as member of management team participating in both strategic\\r\\nand operational planning for the company;\\r\\n- Directs and oversees the company's financial management activities,\\r\\nincluding establishing and monitoring internal controls, managing cash\\r\\nand investments, and managing the investment portfolio in collaboration\\r\\nwith the Investment team leader. This includes, but is not limited to,\\r\\nevaluation of investment risk, concentration risk, fund deployment\\r\\nlevels, adequacy of loss and liquidity reserves Assists investment team\\r\\nin development of proper documentation and internal systems;\\r\\n- Directs and oversees the annual budgeting process, including\\r\\ndeveloping projections for financial planning, and preparing budgets;\\r\\n- Prepares external and internal financial management reports, such as\\r\\naudited financial statements, tax returns, and reports for the board of\\r\\ndirectors and company staff;\\r\\n- Develops, implements, and maintains efficient and effective accounting\\r\\nsystems and controls to ensure compliance with national and\\r\\ninternational accounting standards and principles, sufficiency of fund\\r\\naccounting, and comprehensiveness of data for reporting and compliance\\r\\nrequirements;\\r\\n- Ensures contract compliance, including interpreting and monitoring\\r\\ncontracts with clients, submitting required reports, and monitoring\\r\\ncovenants and other contract terms;\\r\\n- Oversees the design, implementation and maintenance of computer-based\\r\\ninformation system. Oversees records retention (both manual and\\r\\ncomputer-based) and file maintenance activities;\\r\\n- Serves as company's risk manager, including evaluating loss exposure\\r\\nand obtaining insurance as appropriate;\\r\\n- Manages other administrative operations, such as facilities\\r\\nmanagement, payroll administration, office operations, and\\r\\nadministrative support;\\r\\n- Monitors corporate compliance with by-laws and articles of\\r\\nincorporation regarding corporate registration and reporting of\\r\\nfundraising operations.\\r\\nREQUIRED QUALIFICATIONS:  To perform this job successfully, an\\r\\nindividual must be able to perform each essential duty satisfactorily.\\r\\nThe requirements listed below are representative of the knowledge,\\r\\nskill, and/or ability required.\\r\\nKnowledge of:\\r\\n- Generally accepted accounting principles;\\r\\n- Local accounting standards and legislation;\\r\\n- State reporting requirements pertaining to accounting;\\r\\n- Principles and practices of financial management and budgeting;\\r\\n- Principles and practices of financial systems design and analysis;\\r\\n- Principles and practices of contract management, records management,\\r\\nand risk management;\\r\\n- Principles and practices of management and supervision;\\r\\n- Principles and practices of information systems management.\\r\\nAbility to:\\r\\n- Apply sound fiscal and administrative practices to the company's\\r\\nactivities;\\r\\n- Plan, organize and supervise the work of subordinate employees,\\r\\nincluding training them, assigning and evaluating their work, and\\r\\nproviding job performance feedback;\\r\\n- Critically analyze fiscal and administrative policies, practices,\\r\\nprocedures, and systems, and recommend and implement changes as needed;\\r\\n- Gather and synthesize financial information from a variety of sources\\r\\nand present it to a variety of audiences with differing financial\\r\\nmanagement and analysis expertise;\\r\\n- Prepare detailed, comprehensive financial reports, including\\r\\nexplanatory text;\\r\\n- Operate IBM-compatible personal computer, including word processing,\\r\\nspreadsheet, and database software applications;\\r\\n- Operate specialized software applications that support the financial\\r\\nmanagement and budgeting functions.\\r\\nQualifications:\\r\\n- A minimum of 5-7 years Accounting/ Corporate Finance/ Banking\\r\\nexperience, including a role as a CFO;\\r\\n- Excellent finance and accounting technical skills coupled with a\\r\\ndemonstrated knowledge of all key financial functions in an consulting\\r\\ncompany context - accounting, finance, control, treasury, reserving, and\\r\\nreporting;\\r\\n- Strong financial planning and analytical skills and experience and the\\r\\nability to work closely with and support the CEO and other executives in\\r\\nstrategic development and implementation;\\r\\n- Excellent leadership, management and supervisory track record of\\r\\nattracting, selecting, developing, rewarding and retaining high-caliber,\\r\\naccounting and finance executive and teams who achieve business goals;\\r\\n- An undergraduate degree in finance, business, or other related\\r\\ndiscipline is required. A CPA, CFA, ACCA or other financial\\r\\ncertification is highly preferred, as is a Masters degree in Business\\r\\nAdministration, Accounting or Finance;\\r\\n- Fluency in English, Armenian and Russian with outstanding writing\\r\\nskills;\\r\\n- Excellent analytical, communication, teamwork, interpersonal skills;\\r\\n- Need to be well organized and detail-oriented as well as goal/ result\\r\\ndriven and able to deal with complex issues.\\r\\nAPPLICATION PROCEDURES:  To apply for this position, please submit a\\r\\ncover letter and a resume addressing relevant qualifications and\\r\\nexperience and information on professional reference strictly to Tatevik\\r\\nHovhannisyan; Executive Assistant: fax: 374-1-546800 or e-mail:ameria@.... Tel: 374 (1) 524040; 524140. Only shortlisted\\r\\ncandidates will be notified for an interview.\\r\\nPlease clearly mention in your application letter that you learned of\\r\\nthis job opportunity through Career Center and mention the URL of its\\r\\nwebsite - www.careercenter.am, Thanks.\\r\\nAPPLICATION DEADLINE:   26 January 2004\\r\\n----------------------------------\\r\\nTo place a free posting for job or other career related opportunities in\\r\\nyour organization at careercenter.am website, e-mail us atmailbox@... AMERIA Investment Consulting Company is seeking a\\r\\nChief Financial Officer. This position manages the company's fiscal and\\r\\nadministrative functions, provides highly responsible and technically\\r\\ncomplex staff assistance to the Executive Director. The work performed\\r\\nrequires a high level of technical proficiency in financial management\\r\\nand investment management, as well as management, supervisory, and\\r\\nadministrative skills. - Supervises financial management and administrative staff, including\\r\\nassigning responsibilities, reviewing employees' work processes and\\r\\nproducts, counseling employees, giving performance evaluations, and\\r\\nrecommending disciplinary action;\\r\\n- Serves as member of management team participating in both strategic\\r\\nand operational planning for the company;\\r\\n- Directs and oversees the company's financial management activities,\\r\\nincluding establishing and monitoring internal controls, managing cash\\r\\nand investments, and managing the investment portfolio in collaboration\\r\\nwith the Investment team leader. This includes, but is not limited to,\\r\\nevaluation of investment risk, concentration risk, fund deployment\\r\\nlevels, adequacy of loss and liquidity reserves Assists investment team\\r\\nin development of proper documentation and internal systems;\\r\\n- Directs and oversees the annual budgeting process, including\\r\\ndeveloping projections for financial planning, and preparing budgets;\\r\\n- Prepares external and internal financial management reports, such as\\r\\naudited financial statements, tax returns, and reports for the board of\\r\\ndirectors and company staff;\\r\\n- Develops, implements, and maintains efficient and effective accounting\\r\\nsystems and controls to ensure compliance with national and\\r\\ninternational accounting standards and principles, sufficiency of fund\\r\\naccounting, and comprehensiveness of data for reporting and compliance\\r\\nrequirements;\\r\\n- Ensures contract compliance, including interpreting and monitoring\\r\\ncontracts with clients, submitting required reports, and monitoring\\r\\ncovenants and other contract terms;\\r\\n- Oversees the design, implementation and maintenance of computer-based\\r\\ninformation system. Oversees records retention (both manual and\\r\\ncomputer-based) and file maintenance activities;\\r\\n- Serves as company's risk manager, including evaluating loss exposure\\r\\nand obtaining insurance as appropriate;\\r\\n- Manages other administrative operations, such as facilities\\r\\nmanagement, payroll administration, office operations, and\\r\\nadministrative support;\\r\\n- Monitors corporate compliance with by-laws and articles of\\r\\nincorporation regarding corporate registration and reporting of\\r\\nfundraising operations. To perform this job successfully, an\\r\\nindividual must be able to perform each essential duty satisfactorily.\\r\\nThe requirements listed below are representative of the knowledge,\\r\\nskill, and/or ability required.\\r\\nKnowledge of:\\r\\n- Generally accepted accounting principles;\\r\\n- Local accounting standards and legislation;\\r\\n- State reporting requirements pertaining to accounting;\\r\\n- Principles and practices of financial management and budgeting;\\r\\n- Principles and practices of financial systems design and analysis;\\r\\n- Principles and practices of contract management, records management,\\r\\nand risk management;\\r\\n- Principles and practices of management and supervision;\\r\\n- Principles and practices of information systems management.\\r\\nAbility to:\\r\\n- Apply sound fiscal and administrative practices to the company's\\r\\nactivities;\\r\\n- Plan, organize and supervise the work of subordinate employees,\\r\\nincluding training them, assigning and evaluating their work, and\\r\\nproviding job performance feedback;\\r\\n- Critically analyze fiscal and administrative policies, practices,\\r\\nprocedures, and systems, and recommend and implement changes as needed;\\r\\n- Gather and synthesize financial information from a variety of sources\\r\\nand present it to a variety of audiences with differing financial\\r\\nmanagement and analysis expertise;\\r\\n- Prepare detailed, comprehensive financial reports, including\\r\\nexplanatory text;\\r\\n- Operate IBM-compatible personal computer, including word processing,\\r\\nspreadsheet, and database software applications;\\r\\n- Operate specialized software applications that support the financial\\r\\nmanagement and budgeting functions.\\r\\nQualifications:\\r\\n- A minimum of 5-7 years Accounting/ Corporate Finance/ Banking\\r\\nexperience, including a role as a CFO;\\r\\n- Excellent finance and accounting technical skills coupled with a\\r\\ndemonstrated knowledge of all key financial functions in an consulting\\r\\ncompany context - accounting, finance, control, treasury, reserving, and\\r\\nreporting;\\r\\n- Strong financial planning and analytical skills and experience and the\\r\\nability to work closely with and support the CEO and other executives in\\r\\nstrategic development and implementation;\\r\\n- Excellent leadership, management and supervisory track record of\\r\\nattracting, selecting, developing, rewarding and retaining high-caliber,\\r\\naccounting and finance executive and teams who achieve business goals;\\r\\n- An undergraduate degree in finance, business, or other related\\r\\ndiscipline is required. A CPA, CFA, ACCA or other financial\\r\\ncertification is highly preferred, as is a Masters degree in Business\\r\\nAdministration, Accounting or Finance;\\r\\n- Fluency in English, Armenian and Russian with outstanding writing\\r\\nskills;\\r\\n- Excellent analytical, communication, teamwork, interpersonal skills;\\r\\n- Need to be well organized and detail-oriented as well as goal/ result\\r\\ndriven and able to deal with complex issues.\""
      ]
     },
     "execution_count": 8,
     "metadata": {},
     "output_type": "execute_result"
    }
   ],
   "source": [
    "df['Job'][0]"
   ]
  },
  {
   "cell_type": "markdown",
   "id": "e655944e-3602-4dd2-a2e3-6a696048d778",
   "metadata": {},
   "source": [
    "# Preprocess "
   ]
  },
  {
   "cell_type": "code",
   "execution_count": 9,
   "id": "bd51a2fc-6e58-456d-a6ef-60c3aa8129a3",
   "metadata": {},
   "outputs": [
    {
     "name": "stderr",
     "output_type": "stream",
     "text": [
      "[nltk_data] Downloading package stopwords to\n",
      "[nltk_data]     C:\\Users\\jriba\\AppData\\Roaming\\nltk_data...\n",
      "[nltk_data]   Package stopwords is already up-to-date!\n",
      "[nltk_data] Downloading package punkt to\n",
      "[nltk_data]     C:\\Users\\jriba\\AppData\\Roaming\\nltk_data...\n",
      "[nltk_data]   Package punkt is already up-to-date!\n"
     ]
    }
   ],
   "source": [
    "import re\n",
    "import nltk\n",
    "from nltk.corpus import stopwords\n",
    "from nltk.tokenize import word_tokenize\n",
    "\n",
    "# Download stopwords from NLTK\n",
    "nltk.download('stopwords') # Stop words like 'the', 'and', and 'I', because they don't provide meaniful information\n",
    "nltk.download('punkt')\n",
    "\n",
    "stop_words = set(stopwords.words('english'))"
   ]
  },
  {
   "cell_type": "code",
   "execution_count": 10,
   "id": "d0284795-14f3-418a-a28e-b68221157ccd",
   "metadata": {},
   "outputs": [],
   "source": [
    "def preprocess_text(text: str) -> str:\n",
    "    \"\"\"\n",
    "    Preprocesses the input text by cleaning and normalizing it. This includes removing carriage returns,\n",
    "    new lines, punctuation, and numbers, converting to lowercase, tokenizing, and removing stopwords and non-alphabetic\n",
    "    characters.\n",
    "\n",
    "    Args:\n",
    "        text (str): A string containing the text to be processed.\n",
    "\n",
    "    Returns:\n",
    "        str: The processed text, which is cleaned, tokenized, and stripped of stopwords and non-alphabetic\n",
    "        characters, concatenated back into a single string.\n",
    "    \"\"\"\n",
    "\n",
    "    # remove \\r and \\n\n",
    "    text = re.sub(r'[\\r\\n]+', ' ', text)\n",
    "\n",
    "    # Convert to lowercase\n",
    "    text = text.lower()\n",
    "\n",
    "    # remove punctuation and numbers\n",
    "    text = re.sub(r'[^\\w\\s]', '', text)\n",
    "\n",
    "    # tokenize\n",
    "    words = word_tokenize(text)\n",
    "\n",
    "    # Remove stopwords and non-alphabetic characters\n",
    "    words = [word for word in words if word.isalpha() and word not in stop_words]\n",
    "\n",
    "    return ' '.join(words)"
   ]
  },
  {
   "cell_type": "code",
   "execution_count": 11,
   "id": "995b6786-08d6-4349-aae7-522a1b9d818f",
   "metadata": {},
   "outputs": [
    {
     "data": {
      "text/plain": [
       "'chief financial officer ameria investment consulting company job title chief financial officer position location yerevan armenia job description ameria investment consulting company seeking chief financial officer position manages companys fiscal administrative functions provides highly responsible technically complex staff assistance executive director work performed requires high level technical proficiency financial management investment management well management supervisory administrative skills job responsibilities supervises financial management administrative staff including assigning responsibilities reviewing employees work processes products counseling employees giving performance evaluations recommending disciplinary action serves member management team participating strategic operational planning company directs oversees companys financial management activities including establishing monitoring internal controls managing cash investments managing investment portfolio collaboration investment team leader includes limited evaluation investment risk concentration risk fund deployment levels adequacy loss liquidity reserves assists investment team development proper documentation internal systems directs oversees annual budgeting process including developing projections financial planning preparing budgets prepares external internal financial management reports audited financial statements tax returns reports board directors company staff develops implements maintains efficient effective accounting systems controls ensure compliance national international accounting standards principles sufficiency fund accounting comprehensiveness data reporting compliance requirements ensures contract compliance including interpreting monitoring contracts clients submitting required reports monitoring covenants contract terms oversees design implementation maintenance computerbased information system oversees records retention manual computerbased file maintenance activities serves companys risk manager including evaluating loss exposure obtaining insurance appropriate manages administrative operations facilities management payroll administration office operations administrative support monitors corporate compliance bylaws articles incorporation regarding corporate registration reporting fundraising operations required qualifications perform job successfully individual must able perform essential duty satisfactorily requirements listed representative knowledge skill andor ability required knowledge generally accepted accounting principles local accounting standards legislation state reporting requirements pertaining accounting principles practices financial management budgeting principles practices financial systems design analysis principles practices contract management records management risk management principles practices management supervision principles practices information systems management ability apply sound fiscal administrative practices companys activities plan organize supervise work subordinate employees including training assigning evaluating work providing job performance feedback critically analyze fiscal administrative policies practices procedures systems recommend implement changes needed gather synthesize financial information variety sources present variety audiences differing financial management analysis expertise prepare detailed comprehensive financial reports including explanatory text operate ibmcompatible personal computer including word processing spreadsheet database software applications operate specialized software applications support financial management budgeting functions qualifications minimum years accounting corporate finance banking experience including role cfo excellent finance accounting technical skills coupled demonstrated knowledge key financial functions consulting company context accounting finance control treasury reserving reporting strong financial planning analytical skills experience ability work closely support ceo executives strategic development implementation excellent leadership management supervisory track record attracting selecting developing rewarding retaining highcaliber accounting finance executive teams achieve business goals undergraduate degree finance business related discipline required cpa cfa acca financial certification highly preferred masters degree business administration accounting finance fluency english armenian russian outstanding writing skills excellent analytical communication teamwork interpersonal skills need well organized detailoriented well goal result driven able deal complex issues application procedures apply position please submit cover letter resume addressing relevant qualifications experience information professional reference strictly tatevik hovhannisyan executive assistant fax emailameria tel shortlisted candidates notified interview please clearly mention application letter learned job opportunity career center mention url website wwwcareercenteram thanks application deadline january place free posting job career related opportunities organization careercenteram website email us atmailbox ameria investment consulting company seeking chief financial officer position manages companys fiscal administrative functions provides highly responsible technically complex staff assistance executive director work performed requires high level technical proficiency financial management investment management well management supervisory administrative skills supervises financial management administrative staff including assigning responsibilities reviewing employees work processes products counseling employees giving performance evaluations recommending disciplinary action serves member management team participating strategic operational planning company directs oversees companys financial management activities including establishing monitoring internal controls managing cash investments managing investment portfolio collaboration investment team leader includes limited evaluation investment risk concentration risk fund deployment levels adequacy loss liquidity reserves assists investment team development proper documentation internal systems directs oversees annual budgeting process including developing projections financial planning preparing budgets prepares external internal financial management reports audited financial statements tax returns reports board directors company staff develops implements maintains efficient effective accounting systems controls ensure compliance national international accounting standards principles sufficiency fund accounting comprehensiveness data reporting compliance requirements ensures contract compliance including interpreting monitoring contracts clients submitting required reports monitoring covenants contract terms oversees design implementation maintenance computerbased information system oversees records retention manual computerbased file maintenance activities serves companys risk manager including evaluating loss exposure obtaining insurance appropriate manages administrative operations facilities management payroll administration office operations administrative support monitors corporate compliance bylaws articles incorporation regarding corporate registration reporting fundraising operations perform job successfully individual must able perform essential duty satisfactorily requirements listed representative knowledge skill andor ability required knowledge generally accepted accounting principles local accounting standards legislation state reporting requirements pertaining accounting principles practices financial management budgeting principles practices financial systems design analysis principles practices contract management records management risk management principles practices management supervision principles practices information systems management ability apply sound fiscal administrative practices companys activities plan organize supervise work subordinate employees including training assigning evaluating work providing job performance feedback critically analyze fiscal administrative policies practices procedures systems recommend implement changes needed gather synthesize financial information variety sources present variety audiences differing financial management analysis expertise prepare detailed comprehensive financial reports including explanatory text operate ibmcompatible personal computer including word processing spreadsheet database software applications operate specialized software applications support financial management budgeting functions qualifications minimum years accounting corporate finance banking experience including role cfo excellent finance accounting technical skills coupled demonstrated knowledge key financial functions consulting company context accounting finance control treasury reserving reporting strong financial planning analytical skills experience ability work closely support ceo executives strategic development implementation excellent leadership management supervisory track record attracting selecting developing rewarding retaining highcaliber accounting finance executive teams achieve business goals undergraduate degree finance business related discipline required cpa cfa acca financial certification highly preferred masters degree business administration accounting finance fluency english armenian russian outstanding writing skills excellent analytical communication teamwork interpersonal skills need well organized detailoriented well goal result driven able deal complex issues'"
      ]
     },
     "execution_count": 11,
     "metadata": {},
     "output_type": "execute_result"
    }
   ],
   "source": [
    "# Example outcome\n",
    "preprocess_text(df['Job'][0])"
   ]
  },
  {
   "cell_type": "code",
   "execution_count": 12,
   "id": "bfe79fa7-3c0c-4496-bc9e-6f29a4d850c8",
   "metadata": {},
   "outputs": [],
   "source": [
    "df['processed_text'] = df['Job'].apply(preprocess_text)"
   ]
  },
  {
   "cell_type": "code",
   "execution_count": 13,
   "id": "c58f1054-df01-4c95-a013-8ad38a9c0b26",
   "metadata": {},
   "outputs": [
    {
     "data": {
      "text/plain": [
       "'political assistant steps american embassy yerevan announcement number job title political assistant steps work hours hoursweek note applicants family members usg employees officially assigned post chief mission authority must residing country required work andor residency permits eligible consideration us embassy yerevan armenia seeking individual position political assistant polecon section job description provides research reporting advisory related services broad scope sensitivity field political reporting follows issues involving armenian political events well human rights refugees national minorities women children rights obtains information prepares factual analytical reports copy complete position description listing duties responsibilities available human resources office contact number required qualifications note applicants instructed address selection criterion detailed specific comprehensive information supporting criteria university degree equivalent strong background history social sciences international relations law field demanding analytical writing skills three years progressively responsible work office academic environment level fluent english russian level professional armenian strong social interpersonal telephone skills knowledge armenian history culture political institutions structure government foreign relations selection process equally qualified eligible family members us veterans given preference therefore essential candidates address required qualifications application additional selection criteria management consider nepotism conflict interest budget visa status determining successful candidacy current employees serving probationary period eligible apply currently employed aefms hold fma appointment ineligible apply advertised positions within first calendar days employment remuneration efmmohnor position grade confirmed washington ordinarily resident position grade application procedures interested candidates position submit following application federal employment sf b current resume provides information c candidates claim us veteran preference must provide copy application documentation eg essays certificates awards copies degrees earned address minimum requirements position listed please clearly mention application letter learned job opportunity career center mention url website wwwcareercenteram thanks human resources office attention gohar sargsyan baghramian ave yerevan armenia point contact name gohar sargsyan telephone fax definitions aefm type efm eligible direct hire employment either family member appointment fma temporary appointment temp provided meets following criteria us citizen spouse dependent least age listed travel orders foreign civil service uniformed service member permanently assigned stationed us foreign service post establishment abroad asg agency com authority resident sponsoring employee uniform service member post assignment abroad approved safehaven abroad alternate safehaven abroad receive usg annuity pension based career us civil foreign uniform services efm family members least age listed travel orders foreign civil service uniformed service member permanently assigned stationed us foreign service post establishment abroad usg agency com authority meet definition aefm member household moh foreign born spouses dependent children unmarried partners opposite sex parents relatives adult children fall outside department current legal statutory definition efm ordinarily resident citizen republic armenia citizen another country shifted main residency focus armenia required work andor residency permit employment country ordinarily resident typically nors aefms efms fs gs uniform service members travel orders chief mission authority personnel diplomatic privileges immunities application deadline march drafted gsargsyan cleared cdoell approved emacdonald place free posting job career related opportunities organization careercenteram website email us atmailbox provides research reporting advisory related services broad scope sensitivity field political reporting follows issues involving armenian political events well human rights refugees national minorities women children rights obtains information prepares factual analytical reports copy complete position description listing duties responsibilities available human resources office contact number note applicants instructed address selection criterion detailed specific comprehensive information supporting criteria university degree equivalent strong background history social sciences international relations law field demanding analytical writing skills three years progressively responsible work office academic environment level fluent english russian level professional armenian strong social interpersonal telephone skills knowledge armenian history culture political institutions structure government foreign relations selection process equally qualified eligible family members us veterans given preference therefore essential candidates address required qualifications application additional selection criteria management consider nepotism conflict interest budget visa status determining successful candidacy current employees serving probationary period eligible apply currently employed aefms hold fma appointment ineligible apply advertised positions within first calendar days employment remuneration efmmohnor position grade confirmed washington ordinarily resident position grade'"
      ]
     },
     "execution_count": 13,
     "metadata": {},
     "output_type": "execute_result"
    }
   ],
   "source": [
    "df['processed_text'][100]"
   ]
  },
  {
   "cell_type": "markdown",
   "id": "3b329d5a-e34f-4b36-8113-d1c45d7b7a42",
   "metadata": {},
   "source": [
    "# Extract keywords"
   ]
  },
  {
   "cell_type": "code",
   "execution_count": 14,
   "id": "e9259227-80c4-411a-95f7-c35e0b044ee9",
   "metadata": {},
   "outputs": [],
   "source": [
    "from sklearn.feature_extraction.text import TfidfVectorizer"
   ]
  },
  {
   "cell_type": "code",
   "execution_count": 15,
   "id": "849450b6-63b5-48f9-aff4-e27d6e297434",
   "metadata": {},
   "outputs": [],
   "source": [
    "def extract_keywords(texts: pd.Series, num_keywords: int=10) -> list:\n",
    "    \"\"\"\n",
    "    Extracts keywords from a pandas Series containing texts using the TF-IDF (Term Frequency - Inverse Document Frequency) method.\n",
    "    This function initialized a TF-IDF vectorizer, fits it to the provided texts, and extracts the top features (keywords)\n",
    "    based on their TF-IDF scores.\n",
    "\n",
    "    Args:\n",
    "        texts (pd.Series): A pandas Series of preprocessed text documents from which to extract keywords.\n",
    "        num_keywords (int): The number of top keywords to extract from each document. Defaults to 10.\n",
    "\n",
    "    Returns:\n",
    "        list: A list of the top `num_keywords` extracted as the most relevant keywords from the texts.\n",
    "    \"\"\"\n",
    "\n",
    "    # Initialize a TF-IDF vectorizer\n",
    "    tfidf_vectorizer = TfidfVectorizer(max_features=num_keywords, stop_words='english')\n",
    "\n",
    "    # Fit the model and transform the data\n",
    "    tfidf_matrix = tfidf_vectorizer.fit_transform(texts)\n",
    "\n",
    "    # Extract the features names, which are the keywords\n",
    "    feature_names = tfidf_vectorizer.get_feature_names_out()\n",
    "\n",
    "    return feature_names.tolist()"
   ]
  },
  {
   "cell_type": "code",
   "execution_count": 16,
   "id": "dd55aa13-ffed-46c3-a50e-d9e80daa1a12",
   "metadata": {},
   "outputs": [
    {
     "name": "stdout",
     "output_type": "stream",
     "text": [
      "['ability', 'application', 'armenia', 'development', 'experience', 'job', 'knowledge', 'skills', 'website', 'work']\n"
     ]
    }
   ],
   "source": [
    "# Testing out outcome\n",
    "keywords = extract_keywords(df['processed_text'], 10)\n",
    "print(keywords)"
   ]
  },
  {
   "cell_type": "code",
   "execution_count": 17,
   "id": "a6ad5075-f7f4-4258-9ee8-a29109c94152",
   "metadata": {},
   "outputs": [
    {
     "data": {
      "text/plain": [
       "['chief financial officer ameria investment consulting company job title chief financial officer position location yerevan armenia job description ameria investment consulting company seeking chief financial officer position manages companys fiscal administrative functions provides highly responsible technically complex staff assistance executive director work performed requires high level technical proficiency financial management investment management well management supervisory administrative skills job responsibilities supervises financial management administrative staff including assigning responsibilities reviewing employees work processes products counseling employees giving performance evaluations recommending disciplinary action serves member management team participating strategic operational planning company directs oversees companys financial management activities including establishing monitoring internal controls managing cash investments managing investment portfolio collaboration investment team leader includes limited evaluation investment risk concentration risk fund deployment levels adequacy loss liquidity reserves assists investment team development proper documentation internal systems directs oversees annual budgeting process including developing projections financial planning preparing budgets prepares external internal financial management reports audited financial statements tax returns reports board directors company staff develops implements maintains efficient effective accounting systems controls ensure compliance national international accounting standards principles sufficiency fund accounting comprehensiveness data reporting compliance requirements ensures contract compliance including interpreting monitoring contracts clients submitting required reports monitoring covenants contract terms oversees design implementation maintenance computerbased information system oversees records retention manual computerbased file maintenance activities serves companys risk manager including evaluating loss exposure obtaining insurance appropriate manages administrative operations facilities management payroll administration office operations administrative support monitors corporate compliance bylaws articles incorporation regarding corporate registration reporting fundraising operations required qualifications perform job successfully individual must able perform essential duty satisfactorily requirements listed representative knowledge skill andor ability required knowledge generally accepted accounting principles local accounting standards legislation state reporting requirements pertaining accounting principles practices financial management budgeting principles practices financial systems design analysis principles practices contract management records management risk management principles practices management supervision principles practices information systems management ability apply sound fiscal administrative practices companys activities plan organize supervise work subordinate employees including training assigning evaluating work providing job performance feedback critically analyze fiscal administrative policies practices procedures systems recommend implement changes needed gather synthesize financial information variety sources present variety audiences differing financial management analysis expertise prepare detailed comprehensive financial reports including explanatory text operate ibmcompatible personal computer including word processing spreadsheet database software applications operate specialized software applications support financial management budgeting functions qualifications minimum years accounting corporate finance banking experience including role cfo excellent finance accounting technical skills coupled demonstrated knowledge key financial functions consulting company context accounting finance control treasury reserving reporting strong financial planning analytical skills experience ability work closely support ceo executives strategic development implementation excellent leadership management supervisory track record attracting selecting developing rewarding retaining highcaliber accounting finance executive teams achieve business goals undergraduate degree finance business related discipline required cpa cfa acca financial certification highly preferred masters degree business administration accounting finance fluency english armenian russian outstanding writing skills excellent analytical communication teamwork interpersonal skills need well organized detailoriented well goal result driven able deal complex issues application procedures apply position please submit cover letter resume addressing relevant qualifications experience information professional reference strictly tatevik hovhannisyan executive assistant fax emailameria tel shortlisted candidates notified interview please clearly mention application letter learned job opportunity career center mention url website wwwcareercenteram thanks application deadline january place free posting job career related opportunities organization careercenteram website email us atmailbox ameria investment consulting company seeking chief financial officer position manages companys fiscal administrative functions provides highly responsible technically complex staff assistance executive director work performed requires high level technical proficiency financial management investment management well management supervisory administrative skills supervises financial management administrative staff including assigning responsibilities reviewing employees work processes products counseling employees giving performance evaluations recommending disciplinary action serves member management team participating strategic operational planning company directs oversees companys financial management activities including establishing monitoring internal controls managing cash investments managing investment portfolio collaboration investment team leader includes limited evaluation investment risk concentration risk fund deployment levels adequacy loss liquidity reserves assists investment team development proper documentation internal systems directs oversees annual budgeting process including developing projections financial planning preparing budgets prepares external internal financial management reports audited financial statements tax returns reports board directors company staff develops implements maintains efficient effective accounting systems controls ensure compliance national international accounting standards principles sufficiency fund accounting comprehensiveness data reporting compliance requirements ensures contract compliance including interpreting monitoring contracts clients submitting required reports monitoring covenants contract terms oversees design implementation maintenance computerbased information system oversees records retention manual computerbased file maintenance activities serves companys risk manager including evaluating loss exposure obtaining insurance appropriate manages administrative operations facilities management payroll administration office operations administrative support monitors corporate compliance bylaws articles incorporation regarding corporate registration reporting fundraising operations perform job successfully individual must able perform essential duty satisfactorily requirements listed representative knowledge skill andor ability required knowledge generally accepted accounting principles local accounting standards legislation state reporting requirements pertaining accounting principles practices financial management budgeting principles practices financial systems design analysis principles practices contract management records management risk management principles practices management supervision principles practices information systems management ability apply sound fiscal administrative practices companys activities plan organize supervise work subordinate employees including training assigning evaluating work providing job performance feedback critically analyze fiscal administrative policies practices procedures systems recommend implement changes needed gather synthesize financial information variety sources present variety audiences differing financial management analysis expertise prepare detailed comprehensive financial reports including explanatory text operate ibmcompatible personal computer including word processing spreadsheet database software applications operate specialized software applications support financial management budgeting functions qualifications minimum years accounting corporate finance banking experience including role cfo excellent finance accounting technical skills coupled demonstrated knowledge key financial functions consulting company context accounting finance control treasury reserving reporting strong financial planning analytical skills experience ability work closely support ceo executives strategic development implementation excellent leadership management supervisory track record attracting selecting developing rewarding retaining highcaliber accounting finance executive teams achieve business goals undergraduate degree finance business related discipline required cpa cfa acca financial certification highly preferred masters degree business administration accounting finance fluency english armenian russian outstanding writing skills excellent analytical communication teamwork interpersonal skills need well organized detailoriented well goal result driven able deal complex issues']"
      ]
     },
     "execution_count": 17,
     "metadata": {},
     "output_type": "execute_result"
    }
   ],
   "source": [
    "lst = []\n",
    "lst.append(df['processed_text'][0])\n",
    "lst"
   ]
  },
  {
   "cell_type": "code",
   "execution_count": 18,
   "id": "4b0c04e8-2e33-4fdd-b779-4e440bdff4a5",
   "metadata": {},
   "outputs": [
    {
     "name": "stdout",
     "output_type": "stream",
     "text": [
      "['accounting', 'administrative', 'finance', 'financial', 'including', 'investment', 'management', 'practices', 'principles', 'skills']\n"
     ]
    }
   ],
   "source": [
    "keywords = extract_keywords(lst)\n",
    "print(keywords)"
   ]
  },
  {
   "cell_type": "code",
   "execution_count": null,
   "id": "76b91489-0fc5-4cb8-9733-c56721b08d83",
   "metadata": {},
   "outputs": [],
   "source": []
  }
 ],
 "metadata": {
  "kernelspec": {
   "display_name": "Python 3 (ipykernel)",
   "language": "python",
   "name": "python3"
  },
  "language_info": {
   "codemirror_mode": {
    "name": "ipython",
    "version": 3
   },
   "file_extension": ".py",
   "mimetype": "text/x-python",
   "name": "python",
   "nbconvert_exporter": "python",
   "pygments_lexer": "ipython3",
   "version": "3.12.4"
  }
 },
 "nbformat": 4,
 "nbformat_minor": 5
}
